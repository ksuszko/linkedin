{
 "cells": [
  {
   "cell_type": "code",
   "execution_count": 1,
   "metadata": {},
   "outputs": [],
   "source": [
    "#https://github.com/tomquirk/linkedin-api\n",
    "from linkedin_api import Linkedin\n",
    "import pandas as pd\n",
    "import numpy as np\n",
    "import csv\n",
    "\n",
    "# Authenticate using any LinkedIn account credentials\n",
    "api = Linkedin('email', 'password')\n"
   ]
  },
  {
   "cell_type": "code",
   "execution_count": 6,
   "metadata": {},
   "outputs": [
    {
     "name": "stdout",
     "output_type": "stream",
     "text": [
      "[{'urn_id': 'ACoAAAAW4s8BinRbDmlWE6ktJTRW91TRBIvQHrg', 'distance': 'DISTANCE_3', 'public_id': 'frank-senatore-b7b603', 'tracking_id': '1499855'}]\n"
     ]
    },
    {
     "ename": "TypeError",
     "evalue": "list indices must be integers or slices, not str",
     "output_type": "error",
     "traceback": [
      "\u001b[1;31m---------------------------------------------------------------------------\u001b[0m",
      "\u001b[1;31mTypeError\u001b[0m                                 Traceback (most recent call last)",
      "\u001b[1;32m<ipython-input-6-5d7691c42a19>\u001b[0m in \u001b[0;36m<module>\u001b[1;34m\u001b[0m\n\u001b[0;32m     17\u001b[0m     \u001b[0mprint\u001b[0m\u001b[1;33m(\u001b[0m\u001b[0msearch\u001b[0m\u001b[1;33m)\u001b[0m\u001b[1;33m\u001b[0m\u001b[1;33m\u001b[0m\u001b[0m\n\u001b[0;32m     18\u001b[0m     \u001b[1;32mif\u001b[0m \u001b[0msearch\u001b[0m\u001b[1;33m:\u001b[0m\u001b[1;33m\u001b[0m\u001b[1;33m\u001b[0m\u001b[0m\n\u001b[1;32m---> 19\u001b[1;33m         \u001b[0mid_s\u001b[0m\u001b[1;33m=\u001b[0m\u001b[1;34m'linkedin.com/in/{}/'\u001b[0m\u001b[1;33m.\u001b[0m\u001b[0mformat\u001b[0m\u001b[1;33m(\u001b[0m\u001b[0msearch\u001b[0m\u001b[1;33m[\u001b[0m\u001b[1;34m'public_id'\u001b[0m\u001b[1;33m]\u001b[0m\u001b[1;33m)\u001b[0m\u001b[1;33m\u001b[0m\u001b[1;33m\u001b[0m\u001b[0m\n\u001b[0m\u001b[0;32m     20\u001b[0m         \u001b[0mprint\u001b[0m\u001b[1;33m(\u001b[0m\u001b[0mid_s\u001b[0m\u001b[1;33m)\u001b[0m\u001b[1;33m\u001b[0m\u001b[1;33m\u001b[0m\u001b[0m\n\u001b[0;32m     21\u001b[0m         \u001b[0mprofiles\u001b[0m\u001b[1;33m.\u001b[0m\u001b[0mappend\u001b[0m\u001b[1;33m(\u001b[0m\u001b[0mid_s\u001b[0m\u001b[1;33m)\u001b[0m\u001b[1;33m\u001b[0m\u001b[1;33m\u001b[0m\u001b[0m\n",
      "\u001b[1;31mTypeError\u001b[0m: list indices must be integers or slices, not str"
     ]
    }
   ],
   "source": [
    "# GET a profile\n",
    "References=pd.read_csv('References.csv')\n",
    "df_r=pd.DataFrame(References)\n",
    "\n",
    "#remove nulls\n",
    "df=df_r[~df_r['First Name'].isnull()]\n",
    "df=df_r[~df_r['Last Name'].isnull()]\n",
    "df=df_r[~df_r['REFERENCE_COMPANY'].isnull()]\n",
    "\n",
    "for index, row in df.iterrows():\n",
    "    profiles=[]\n",
    "    first_name=df['First Name'][index]\n",
    "    last_name=df['Last Name'][index]\n",
    "    company=df['REFERENCE_COMPANY'][index]\n",
    "    \n",
    "    search = api.search_people(keyword_first_name='{}'.format(first_name),keyword_last_name='{}'.format(last_name),keyword_company='{}'.format(company))\n",
    "    print(search)\n",
    "    if search:\n",
    "        id_s='linkedin.com/in/{}/'.format(search['public_id'])\n",
    "        print(id_s)\n",
    "        profiles.append(id_s)\n",
    "    else:\n",
    "        print('empty')\n",
    "\n",
    "print(profiles)    \n",
    "# GET a profiles contact info\n",
    "#contact_info = api.get_profile_contact_info('billy-g')\n",
    "#print(search)"
   ]
  },
  {
   "cell_type": "code",
   "execution_count": null,
   "metadata": {},
   "outputs": [],
   "source": [
    "for p_id in profiles:\n",
    "    urls=[]\n",
    "    urls.append('linkedin.com/in/{}/'.format(p_id))\n",
    "    \n",
    "print(urls)"
   ]
  },
  {
   "cell_type": "code",
   "execution_count": null,
   "metadata": {},
   "outputs": [],
   "source": [
    "first_name='Alan'\n",
    "last_name='Ritchie'\n",
    "company='Philip Johnson/ Alan Ritchie Architects'\n",
    "\n",
    "search = api.search_people(keyword_first_name='{}'.format(first_name),keyword_last_name='{}'.format(last_name),include_private_profiles=True,keyword_company='{}'.format(company))\n",
    "\n",
    "print(search)\n",
    "\n",
    "for a in range(0,len(search)):\n",
    "    lst=[]\n",
    "    lst.append(search[a]['public_id'])\n",
    "\n",
    "#print(lst)\n",
    "\n",
    "public_id=search['public_id']\n",
    "\n",
    "url='linkedin.com/in/{}/'.format(public_id)"
   ]
  },
  {
   "cell_type": "code",
   "execution_count": null,
   "metadata": {},
   "outputs": [],
   "source": []
  },
  {
   "cell_type": "code",
   "execution_count": null,
   "metadata": {},
   "outputs": [],
   "source": [
    "#profile = api.get_profile('alan-ritchie-9b64a71')\n",
    "#print(profile)"
   ]
  },
  {
   "cell_type": "code",
   "execution_count": null,
   "metadata": {},
   "outputs": [],
   "source": []
  }
 ],
 "metadata": {
  "kernelspec": {
   "display_name": "Python 3",
   "language": "python",
   "name": "python3"
  },
  "language_info": {
   "codemirror_mode": {
    "name": "ipython",
    "version": 3
   },
   "file_extension": ".py",
   "mimetype": "text/x-python",
   "name": "python",
   "nbconvert_exporter": "python",
   "pygments_lexer": "ipython3",
   "version": "3.7.6"
  }
 },
 "nbformat": 4,
 "nbformat_minor": 4
}
